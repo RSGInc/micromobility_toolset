{
 "cells": [
  {
   "cell_type": "markdown",
   "metadata": {},
   "source": [
    "# WFRC Example Data\n",
    "\n",
    "Convert the full Salt Lake City model data found at [WFRC's GitHub](github.com/WFRCAnalytics/utah_bike_demand_model) into a smaller dataset suitable for testing and development work."
   ]
  },
  {
   "cell_type": "code",
   "execution_count": 1,
   "metadata": {},
   "outputs": [
    {
     "name": "stdout",
     "output_type": "stream",
     "text": [
      "pyproj 3.0.0.post1\n",
      "shapely 1.7.1\n"
     ]
    }
   ],
   "source": [
    "import os\n",
    "import shutil\n",
    "import yaml\n",
    "\n",
    "import pandas as pd\n",
    "import numpy as np\n",
    "import pyproj\n",
    "import shapely\n",
    "\n",
    "from shapely.geometry import Point\n",
    "from shapely.ops import transform\n",
    "\n",
    "from functools import partial\n",
    "\n",
    "print('pyproj', pyproj.__version__)\n",
    "print('shapely', shapely.__version__)"
   ]
  },
  {
   "cell_type": "code",
   "execution_count": 2,
   "metadata": {},
   "outputs": [],
   "source": [
    "class Config():\n",
    "    \n",
    "    def __init__(self, inputs, configs, crs):\n",
    "        \n",
    "        assert os.path.isdir(inputs)\n",
    "        assert os.path.isdir(configs)\n",
    "        \n",
    "        self.inputs = inputs\n",
    "        self.configs = configs\n",
    "        self.crs = pyproj.crs.CRS.from_user_input(crs)\n",
    "\n",
    "        with open(os.path.join(self.configs, 'network.yaml')) as f:\n",
    "            settings = yaml.safe_load(f)\n",
    "            \n",
    "            self.link_file = settings.get('link_file')\n",
    "            self.from_node = settings.get('from_name')\n",
    "            self.to_node = settings.get('to_name')\n",
    "            \n",
    "            self.node_file = settings.get('node_file')\n",
    "            self.node_name = settings.get('node_name')\n",
    "            self.node_x_name = settings.get('node_x_name')\n",
    "            self.node_y_name = settings.get('node_y_name')\n",
    "        \n",
    "        with open(os.path.join(self.configs, 'zone.yaml')) as f:\n",
    "            settings = yaml.safe_load(f)\n",
    "            \n",
    "            self.zone_file = settings.get('zone_file_name')\n",
    "\n",
    "        self.link_df = self.read(self.link_file)\n",
    "        self.node_df = self.read(self.node_file)\n",
    "        self.zone_df = self.read(self.zone_file)\n",
    "        \n",
    "        self.node_df.set_index(self.node_name, inplace=True)  \n",
    "        \n",
    "        # nodes as shapely Points\n",
    "        self.node_points = pd.Series(\n",
    "            [Point(x, y) for x, y in\n",
    "                 zip(self.node_df[self.node_x_name], self.node_df[self.node_y_name])])\n",
    "    \n",
    "    def read(self, input_file):\n",
    "        return pd.read_csv(os.path.join(self.inputs, input_file))\n",
    "    \n",
    "    def bounding_circle(self, center_lon_lat, radius):\n",
    "        \"\"\"\n",
    "        center_lon_lat: (longitude,  latitude) tuple\n",
    "        radius: radius in whatever units match input data CRS\n",
    "        \"\"\"\n",
    "        \n",
    "        center_point = Point(center_lon_lat)\n",
    "        \n",
    "        wgs84_to_local = partial(\n",
    "            pyproj.transform,\n",
    "            pyproj.Proj(\"+proj=longlat +datum=WGS84 +no_defs\"),\n",
    "            self.crs,\n",
    "        )\n",
    "        \n",
    "        center_transformed = transform(\n",
    "            wgs84_to_local,\n",
    "            center_point)\n",
    "        \n",
    "        assert min(self.node_df[self.node_x_name]) <= center_transformed.x <= max(self.node_df[self.node_x_name]) and \\\n",
    "            min(self.node_df[self.node_y_name]) <= center_transformed.y <= max(self.node_df[self.node_y_name]), \\\n",
    "            \"center is not within region\"\n",
    "\n",
    "        return center_transformed.buffer(radius)\n",
    "    \n",
    "    def trim_data(self, center, radius):\n",
    "        \n",
    "        circle_poly = self.bounding_circle(center, radius)\n",
    "        \n",
    "        circle_nodes = self.node_df[\n",
    "            self.node_points.apply(lambda p: p.intersects(circle_poly))]\n",
    "        \n",
    "        print(\n",
    "            f\"trimmed nodes: {len(circle_nodes)} ({(len(circle_nodes) * 100 / len(self.node_df)):.2f} %)\")\n",
    "        \n",
    "        circle_links = config.link_df[\n",
    "            self.link_df[self.from_node].isin(circle_nodes.index) &\n",
    "            self.link_df[self.to_node].isin(circle_nodes.index)\n",
    "        ]\n",
    "        \n",
    "        print(\n",
    "            f\"trimmed links: {len(circle_links)} ({(len(circle_links) * 100 / len(self.link_df)):.2f} %)\")\n",
    "\n",
    "        circle_zones = self.zone_df[self.zone_df[self.node_name].isin(circle_nodes.index)]\n",
    "        \n",
    "        print(\n",
    "            f\"trimmed zones: {len(circle_zones)} ({(len(circle_zones) * 100 / len(self.zone_df)):.2f} %)\")\n",
    "        \n",
    "        return circle_nodes.reset_index(), circle_links, circle_zones\n",
    "    \n",
    "    def write_example(self, path, nodes, links, zones, copy_configs=False):\n",
    "        \n",
    "        os.mkdir(path)  # safety: don't overwrite existing folder\n",
    "        \n",
    "        example_inputs = os.path.join(path, os.path.basename(self.inputs))\n",
    "        os.mkdir(example_inputs)\n",
    "        \n",
    "        print(f'writing files to {example_inputs}')\n",
    "        \n",
    "        nodes.to_csv(os.path.join(example_inputs, self.node_file))\n",
    "        links.to_csv(os.path.join(example_inputs, self.link_file))\n",
    "        zones.to_csv(os.path.join(example_inputs, self.zone_file))\n",
    "        \n",
    "        if copy_configs:\n",
    "        \n",
    "            example_configs = os.path.join(path, os.path.basename(self.configs))\n",
    "\n",
    "            print(f'copying configs to {example_configs}')\n",
    "            print('consider shortening max dist in example configuration '\n",
    "                  'to accommodate smaller network and further improve runtime')\n",
    "\n",
    "            shutil.copytree(self.configs, example_configs)\n",
    "        "
   ]
  },
  {
   "cell_type": "code",
   "execution_count": 3,
   "metadata": {},
   "outputs": [],
   "source": [
    "config = Config(\n",
    "    inputs='../../utah_bike_demand_model/Model_Inputs',\n",
    "    configs='../../utah_bike_demand_model/Model_Configs',\n",
    "    crs='epsg:26912',\n",
    ")"
   ]
  },
  {
   "cell_type": "code",
   "execution_count": 4,
   "metadata": {},
   "outputs": [
    {
     "name": "stdout",
     "output_type": "stream",
     "text": [
      "trimmed nodes: 4874 (4.49 %)\n",
      "trimmed links: 6591 (4.80 %)\n",
      "trimmed zones: 463 (3.08 %)\n"
     ]
    }
   ],
   "source": [
    "center = -111.8967904, 40.7633270  # downtown Salt Lake City\n",
    "radius = 5000  # input crs is in meters\n",
    "\n",
    "nodes, links, zones = config.trim_data(center, radius)"
   ]
  },
  {
   "cell_type": "code",
   "execution_count": 5,
   "metadata": {},
   "outputs": [
    {
     "name": "stdout",
     "output_type": "stream",
     "text": [
      "writing files to test_example/Model_Inputs\n",
      "copying configs to test_example/Model_Configs\n",
      "consider shortening max dist in example configuration to accommodate smaller network and further improve runtime\n"
     ]
    }
   ],
   "source": [
    "config.write_example(\n",
    "    path='test_example',\n",
    "    nodes=nodes,\n",
    "    links=links,\n",
    "    zones=zones,\n",
    "    copy_configs=True)"
   ]
  },
  {
   "cell_type": "code",
   "execution_count": null,
   "metadata": {},
   "outputs": [],
   "source": []
  }
 ],
 "metadata": {
  "kernelspec": {
   "display_name": "Python 3",
   "language": "python",
   "name": "python3"
  },
  "language_info": {
   "codemirror_mode": {
    "name": "ipython",
    "version": 3
   },
   "file_extension": ".py",
   "mimetype": "text/x-python",
   "name": "python",
   "nbconvert_exporter": "python",
   "pygments_lexer": "ipython3",
   "version": "3.8.2"
  }
 },
 "nbformat": 4,
 "nbformat_minor": 4
}
